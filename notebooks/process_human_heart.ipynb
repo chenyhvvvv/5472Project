{
 "cells": [
  {
   "cell_type": "code",
   "execution_count": 1,
   "metadata": {
    "collapsed": true
   },
   "outputs": [],
   "source": [
    "import os\n",
    "\n",
    "import anndata as ad\n",
    "import scanpy as sc\n",
    "import pandas as pd\n",
    "import numpy as np\n",
    "# Set current working directory\n",
    "os.chdir(\"/import/home2/yhchenmath/Code/project5472/\")\n",
    "root_dir = \"/import/home2/yhchenmath/Dataset/stitch3D/HumanHeart/\""
   ]
  },
  {
   "cell_type": "markdown",
   "source": [
    "## ST"
   ],
   "metadata": {
    "collapsed": false
   }
  },
  {
   "cell_type": "code",
   "execution_count": 12,
   "outputs": [],
   "source": [
    "count = pd.read_csv(f\"{root_dir}SC/Filtered/filtered_ST_matrix_and_meta_data/filtered_matrix.tsv\", sep=\"\\t\", index_col=0).T\n",
    "meta = pd.read_csv(f\"{root_dir}SC/Filtered/filtered_ST_matrix_and_meta_data/meta_data.tsv\", sep=\"\\t\", index_col=0)\n",
    "genes_new = pd.read_csv(f\"{root_dir}genes_new.txt\")\n",
    "\n",
    "count.columns = list(genes_new.x.values)\n",
    "count = count.loc[:, count.columns.notna()]"
   ],
   "metadata": {
    "collapsed": false
   }
  },
  {
   "cell_type": "code",
   "execution_count": 13,
   "outputs": [
    {
     "data": {
      "text/plain": "         TSPAN6  TNMD  DPM1  SCYL3  C1orf112  FGR  CFH  FUCA2  GCLC  NFYA  \\\n1x17x20       0     0     0      0         0    0    0      0     0     0   \n1x17x21       0     0     0      0         0    0    0      0     0     0   \n1x17x22       0     0     0      0         0    0    0      0     0     0   \n1x18x18       0     0     0      0         0    0    0      0     0     0   \n1x18x19       0     0     0      0         0    0    0      0     0     0   \n...         ...   ...   ...    ...       ...  ...  ...    ...   ...   ...   \n19x9x11       0     0     0      0         0    0    0      0     0     0   \n19x9x12       0     0     0      0         0    0    0      0     0     0   \n19x9x13       0     0     0      0         0    0    0      0     0     0   \n19x9x8        0     0     0      0         0    0    0      0     0     0   \n19x9x9        0     0     0      1         0    0    0      0     0     0   \n\n         ...  AC009802.1  AC112487.2  AC068587.4  RF00537  MYOCOS  AC013268.5  \\\n1x17x20  ...           0           0           0        0       0           0   \n1x17x21  ...           0           0           0        0       0           0   \n1x17x22  ...           0           0           0        0       0           0   \n1x18x18  ...           0           0           0        0       0           0   \n1x18x19  ...           0           0           0        0       0           0   \n...      ...         ...         ...         ...      ...     ...         ...   \n19x9x11  ...           0           0           0        0       0           0   \n19x9x12  ...           0           0           0        0       0           0   \n19x9x13  ...           0           0           0        0       0           0   \n19x9x8   ...           0           0           0        0       0           0   \n19x9x9   ...           0           0           0        0       0           0   \n\n         AC018553.2  Z96074.1  AL592295.4  AC012442.3  \n1x17x20           0         0           0           0  \n1x17x21           0         0           0           0  \n1x17x22           0         0           0           0  \n1x18x18           0         0           0           0  \n1x18x19           0         0           0           0  \n...             ...       ...         ...         ...  \n19x9x11           0         0           0           0  \n19x9x12           0         0           0           0  \n19x9x13           0         0           0           0  \n19x9x8            0         0           0           0  \n19x9x9            0         0           0           0  \n\n[3111 rows x 39525 columns]",
      "text/html": "<div>\n<style scoped>\n    .dataframe tbody tr th:only-of-type {\n        vertical-align: middle;\n    }\n\n    .dataframe tbody tr th {\n        vertical-align: top;\n    }\n\n    .dataframe thead th {\n        text-align: right;\n    }\n</style>\n<table border=\"1\" class=\"dataframe\">\n  <thead>\n    <tr style=\"text-align: right;\">\n      <th></th>\n      <th>TSPAN6</th>\n      <th>TNMD</th>\n      <th>DPM1</th>\n      <th>SCYL3</th>\n      <th>C1orf112</th>\n      <th>FGR</th>\n      <th>CFH</th>\n      <th>FUCA2</th>\n      <th>GCLC</th>\n      <th>NFYA</th>\n      <th>...</th>\n      <th>AC009802.1</th>\n      <th>AC112487.2</th>\n      <th>AC068587.4</th>\n      <th>RF00537</th>\n      <th>MYOCOS</th>\n      <th>AC013268.5</th>\n      <th>AC018553.2</th>\n      <th>Z96074.1</th>\n      <th>AL592295.4</th>\n      <th>AC012442.3</th>\n    </tr>\n  </thead>\n  <tbody>\n    <tr>\n      <th>1x17x20</th>\n      <td>0</td>\n      <td>0</td>\n      <td>0</td>\n      <td>0</td>\n      <td>0</td>\n      <td>0</td>\n      <td>0</td>\n      <td>0</td>\n      <td>0</td>\n      <td>0</td>\n      <td>...</td>\n      <td>0</td>\n      <td>0</td>\n      <td>0</td>\n      <td>0</td>\n      <td>0</td>\n      <td>0</td>\n      <td>0</td>\n      <td>0</td>\n      <td>0</td>\n      <td>0</td>\n    </tr>\n    <tr>\n      <th>1x17x21</th>\n      <td>0</td>\n      <td>0</td>\n      <td>0</td>\n      <td>0</td>\n      <td>0</td>\n      <td>0</td>\n      <td>0</td>\n      <td>0</td>\n      <td>0</td>\n      <td>0</td>\n      <td>...</td>\n      <td>0</td>\n      <td>0</td>\n      <td>0</td>\n      <td>0</td>\n      <td>0</td>\n      <td>0</td>\n      <td>0</td>\n      <td>0</td>\n      <td>0</td>\n      <td>0</td>\n    </tr>\n    <tr>\n      <th>1x17x22</th>\n      <td>0</td>\n      <td>0</td>\n      <td>0</td>\n      <td>0</td>\n      <td>0</td>\n      <td>0</td>\n      <td>0</td>\n      <td>0</td>\n      <td>0</td>\n      <td>0</td>\n      <td>...</td>\n      <td>0</td>\n      <td>0</td>\n      <td>0</td>\n      <td>0</td>\n      <td>0</td>\n      <td>0</td>\n      <td>0</td>\n      <td>0</td>\n      <td>0</td>\n      <td>0</td>\n    </tr>\n    <tr>\n      <th>1x18x18</th>\n      <td>0</td>\n      <td>0</td>\n      <td>0</td>\n      <td>0</td>\n      <td>0</td>\n      <td>0</td>\n      <td>0</td>\n      <td>0</td>\n      <td>0</td>\n      <td>0</td>\n      <td>...</td>\n      <td>0</td>\n      <td>0</td>\n      <td>0</td>\n      <td>0</td>\n      <td>0</td>\n      <td>0</td>\n      <td>0</td>\n      <td>0</td>\n      <td>0</td>\n      <td>0</td>\n    </tr>\n    <tr>\n      <th>1x18x19</th>\n      <td>0</td>\n      <td>0</td>\n      <td>0</td>\n      <td>0</td>\n      <td>0</td>\n      <td>0</td>\n      <td>0</td>\n      <td>0</td>\n      <td>0</td>\n      <td>0</td>\n      <td>...</td>\n      <td>0</td>\n      <td>0</td>\n      <td>0</td>\n      <td>0</td>\n      <td>0</td>\n      <td>0</td>\n      <td>0</td>\n      <td>0</td>\n      <td>0</td>\n      <td>0</td>\n    </tr>\n    <tr>\n      <th>...</th>\n      <td>...</td>\n      <td>...</td>\n      <td>...</td>\n      <td>...</td>\n      <td>...</td>\n      <td>...</td>\n      <td>...</td>\n      <td>...</td>\n      <td>...</td>\n      <td>...</td>\n      <td>...</td>\n      <td>...</td>\n      <td>...</td>\n      <td>...</td>\n      <td>...</td>\n      <td>...</td>\n      <td>...</td>\n      <td>...</td>\n      <td>...</td>\n      <td>...</td>\n      <td>...</td>\n    </tr>\n    <tr>\n      <th>19x9x11</th>\n      <td>0</td>\n      <td>0</td>\n      <td>0</td>\n      <td>0</td>\n      <td>0</td>\n      <td>0</td>\n      <td>0</td>\n      <td>0</td>\n      <td>0</td>\n      <td>0</td>\n      <td>...</td>\n      <td>0</td>\n      <td>0</td>\n      <td>0</td>\n      <td>0</td>\n      <td>0</td>\n      <td>0</td>\n      <td>0</td>\n      <td>0</td>\n      <td>0</td>\n      <td>0</td>\n    </tr>\n    <tr>\n      <th>19x9x12</th>\n      <td>0</td>\n      <td>0</td>\n      <td>0</td>\n      <td>0</td>\n      <td>0</td>\n      <td>0</td>\n      <td>0</td>\n      <td>0</td>\n      <td>0</td>\n      <td>0</td>\n      <td>...</td>\n      <td>0</td>\n      <td>0</td>\n      <td>0</td>\n      <td>0</td>\n      <td>0</td>\n      <td>0</td>\n      <td>0</td>\n      <td>0</td>\n      <td>0</td>\n      <td>0</td>\n    </tr>\n    <tr>\n      <th>19x9x13</th>\n      <td>0</td>\n      <td>0</td>\n      <td>0</td>\n      <td>0</td>\n      <td>0</td>\n      <td>0</td>\n      <td>0</td>\n      <td>0</td>\n      <td>0</td>\n      <td>0</td>\n      <td>...</td>\n      <td>0</td>\n      <td>0</td>\n      <td>0</td>\n      <td>0</td>\n      <td>0</td>\n      <td>0</td>\n      <td>0</td>\n      <td>0</td>\n      <td>0</td>\n      <td>0</td>\n    </tr>\n    <tr>\n      <th>19x9x8</th>\n      <td>0</td>\n      <td>0</td>\n      <td>0</td>\n      <td>0</td>\n      <td>0</td>\n      <td>0</td>\n      <td>0</td>\n      <td>0</td>\n      <td>0</td>\n      <td>0</td>\n      <td>...</td>\n      <td>0</td>\n      <td>0</td>\n      <td>0</td>\n      <td>0</td>\n      <td>0</td>\n      <td>0</td>\n      <td>0</td>\n      <td>0</td>\n      <td>0</td>\n      <td>0</td>\n    </tr>\n    <tr>\n      <th>19x9x9</th>\n      <td>0</td>\n      <td>0</td>\n      <td>0</td>\n      <td>1</td>\n      <td>0</td>\n      <td>0</td>\n      <td>0</td>\n      <td>0</td>\n      <td>0</td>\n      <td>0</td>\n      <td>...</td>\n      <td>0</td>\n      <td>0</td>\n      <td>0</td>\n      <td>0</td>\n      <td>0</td>\n      <td>0</td>\n      <td>0</td>\n      <td>0</td>\n      <td>0</td>\n      <td>0</td>\n    </tr>\n  </tbody>\n</table>\n<p>3111 rows × 39525 columns</p>\n</div>"
     },
     "execution_count": 13,
     "metadata": {},
     "output_type": "execute_result"
    }
   ],
   "source": [
    "count"
   ],
   "metadata": {
    "collapsed": false
   }
  },
  {
   "cell_type": "code",
   "execution_count": 14,
   "outputs": [
    {
     "name": "stderr",
     "output_type": "stream",
     "text": [
      "/tmp/ipykernel_942185/615017188.py:21: SettingWithCopyWarning: \n",
      "A value is trying to be set on a copy of a slice from a DataFrame.\n",
      "Try using .loc[row_indexer,col_indexer] = value instead\n",
      "\n",
      "See the caveats in the documentation: https://pandas.pydata.org/pandas-docs/stable/user_guide/indexing.html#returning-a-view-versus-a-copy\n",
      "  adata_st_i.obs['selected'] = loc_i['selected'].values\n",
      "/tmp/ipykernel_942185/615017188.py:40: SettingWithCopyWarning: \n",
      "A value is trying to be set on a copy of a slice from a DataFrame.\n",
      "Try using .loc[row_indexer,col_indexer] = value instead\n",
      "\n",
      "See the caveats in the documentation: https://pandas.pydata.org/pandas-docs/stable/user_guide/indexing.html#returning-a-view-versus-a-copy\n",
      "  adata_st_i.obs['array_row'] = loc_i['y'].values\n",
      "/tmp/ipykernel_942185/615017188.py:41: SettingWithCopyWarning: \n",
      "A value is trying to be set on a copy of a slice from a DataFrame.\n",
      "Try using .loc[row_indexer,col_indexer] = value instead\n",
      "\n",
      "See the caveats in the documentation: https://pandas.pydata.org/pandas-docs/stable/user_guide/indexing.html#returning-a-view-versus-a-copy\n",
      "  adata_st_i.obs['array_col'] = loc_i['x'].values\n",
      "Variable names are not unique. To make them unique, call `.var_names_make_unique`.\n",
      "Variable names are not unique. To make them unique, call `.var_names_make_unique`.\n",
      "Variable names are not unique. To make them unique, call `.var_names_make_unique`.\n",
      "Variable names are not unique. To make them unique, call `.var_names_make_unique`.\n",
      "Variable names are not unique. To make them unique, call `.var_names_make_unique`.\n",
      "Variable names are not unique. To make them unique, call `.var_names_make_unique`.\n",
      "Variable names are not unique. To make them unique, call `.var_names_make_unique`.\n",
      "Variable names are not unique. To make them unique, call `.var_names_make_unique`.\n",
      "Variable names are not unique. To make them unique, call `.var_names_make_unique`.\n"
     ]
    }
   ],
   "source": [
    "from matplotlib.image import imread\n",
    "adata_st_list_raw = []\n",
    "\n",
    "for i in range(1, 10):\n",
    "    count_i = count[[loc.split(\"x\")[0]==str(i+4) for loc in count.index]]\n",
    "    count_i.index = [(loc.split(\"x\")[1]+\"x\"+loc.split(\"x\")[2]) for loc in count_i.index]\n",
    "    meta_i = meta[[loc.split(\"x\")[0]==str(i+4) for loc in meta.index]]\n",
    "    meta_i.index = [(loc.split(\"x\")[1]+\"x\"+loc.split(\"x\")[2]) for loc in meta_i.index]\n",
    "\n",
    "    loc_i = pd.read_csv(root_dir + \"ST/ST_Samples_6.5PCW/ST_Sample_6.5PCW_%d/spot_data-all-ST_Sample_6.5PCW_%d.tsv\" % (i, i),\n",
    "                       sep=\"\\t\")\n",
    "\n",
    "    loc_i.index = [(str(loc_i.x.values[k]) + 'x' + str(loc_i.y.values[k])) for k in range(loc_i.shape[0])]\n",
    "    loc_i = loc_i.loc[meta_i.index]\n",
    "\n",
    "    img_i = imread(root_dir + 'ST/ST_Samples_6.5PCW/ST_Sample_6.5PCW_%d/ST_Sample_6.5PCW_%d_HE_small.jpg' % (i, i))\n",
    "\n",
    "    adata_st_i = ad.AnnData(X = count_i.values)\n",
    "\n",
    "    adata_st_i.obs = meta_i\n",
    "    adata_st_i.obs['selected'] = loc_i['selected'].values\n",
    "    adata_st_i.var.index = count_i.columns\n",
    "\n",
    "    library_id = '0'\n",
    "    adata_st_i.uns[\"spatial\"] = dict()\n",
    "    adata_st_i.uns[\"spatial\"]['0'] = dict()\n",
    "    adata_st_i.uns[\"spatial\"]['0']['images'] = dict()\n",
    "    adata_st_i.uns[\"spatial\"]['0']['images']['hires'] = img_i\n",
    "    adata_st_i.uns[\"spatial\"]['0']['scalefactors'] = {'spot_diameter_fullres': 100,\n",
    "                                                      'tissue_hires_scalef': 1.0,\n",
    "                                                      'fiducial_diameter_fullres': 100,\n",
    "                                                      'tissue_lowres_scalef': 1.0}\n",
    "\n",
    "    adata_st_i.obsm['spatial'] = np.concatenate((loc_i['pixel_x'].values.reshape(-1, 1),\n",
    "                                                 loc_i['pixel_y'].values.reshape(-1, 1)), axis=1)\n",
    "\n",
    "    adata_st_i.obsm['loc_use'] = np.concatenate((loc_i['x'].values.reshape(-1, 1),\n",
    "                                                 loc_i['y'].values.reshape(-1, 1)), axis=1)\n",
    "\n",
    "    adata_st_i.obs['array_row'] = loc_i['y'].values\n",
    "    adata_st_i.obs['array_col'] = loc_i['x'].values\n",
    "\n",
    "    adata_st_i = adata_st_i[adata_st_i.obs['selected'].values != 0]\n",
    "    adata_st_list_raw.append(adata_st_i.copy())"
   ],
   "metadata": {
    "collapsed": false
   }
  },
  {
   "cell_type": "markdown",
   "source": [
    "## SC"
   ],
   "metadata": {
    "collapsed": false
   }
  },
  {
   "cell_type": "code",
   "execution_count": 15,
   "outputs": [],
   "source": [
    "count_ref = pd.read_csv(f\"{root_dir}SC/Filtered/share_files/all_cells_count_matrix_filtered.tsv\",\n",
    "                        sep='\\t', index_col=0).T\n",
    "\n",
    "meta_ref = pd.read_csv(f\"{root_dir}SC/Filtered/share_files/all_cells_meta_data_filtered.tsv\",\n",
    "                        sep='\\t', index_col=0)\n",
    "\n",
    "adata_ref = ad.AnnData(X = count_ref.values)\n",
    "adata_ref.obs.index = count_ref.index\n",
    "adata_ref.var.index = count_ref.columns\n",
    "for col in meta_ref.columns[:-1]:\n",
    "    adata_ref.obs[col] = meta_ref.loc[count_ref.index][col].values"
   ],
   "metadata": {
    "collapsed": false
   }
  },
  {
   "cell_type": "code",
   "execution_count": 16,
   "outputs": [
    {
     "data": {
      "text/plain": "AnnData object with n_obs × n_vars = 3777 × 15323\n    obs: 'nGene', 'nUMI', 'experiment', 'Phase', 'res.0.7', 'celltype'"
     },
     "execution_count": 16,
     "metadata": {},
     "output_type": "execute_result"
    }
   ],
   "source": [
    "adata_ref"
   ],
   "metadata": {
    "collapsed": false
   }
  },
  {
   "cell_type": "markdown",
   "source": [
    "## Save in pickle"
   ],
   "metadata": {
    "collapsed": false
   }
  },
  {
   "cell_type": "code",
   "execution_count": 23,
   "outputs": [
    {
     "data": {
      "text/plain": "AnnData object with n_obs × n_vars = 100 × 39525\n    obs: 'nGene', 'nUMI', 'Sample', 'weeks', 'ChipBatch', 'ChipNr', 'Experiment_date', 'Experiment_procedure', 'Sequencing_date', 'Raw_reads', 'new_x', 'new_y', 'percent.mito', 'res.0.8', 'selected', 'array_row', 'array_col'\n    uns: 'spatial'\n    obsm: 'spatial', 'loc_use'"
     },
     "execution_count": 23,
     "metadata": {},
     "output_type": "execute_result"
    }
   ],
   "source": [
    "adata_st_list_raw[0]"
   ],
   "metadata": {
    "collapsed": false
   }
  },
  {
   "cell_type": "code",
   "execution_count": 22,
   "outputs": [],
   "source": [
    "# Save adata_st_list_raw and adata_ref in pickle\n",
    "# para_dict: the extra parameters used in the pipeline\n",
    "import pickle\n",
    "if not os.path.exists(f\"{root_dir}process\"):\n",
    "    os.makedirs(f\"{root_dir}process\")\n",
    "with open(f\"{root_dir}process/st_data.pickle\", 'wb') as f:\n",
    "    pickle.dump(adata_st_list_raw, f)\n",
    "with open(f\"{root_dir}process/sc_data.pickle\", 'wb') as f:\n",
    "    pickle.dump(adata_ref, f)\n",
    "with open(f\"{root_dir}process/para_dict.pickle\", 'wb') as f:\n",
    "    pickle.dump({\"preprocess\": {\"slice_dist_micron\": [5., 115., 85., 160.,5., 160., 5., 155.,]},\n",
    "                 \"align\": {}\n",
    "                 }, f)"
   ],
   "metadata": {
    "collapsed": false
   }
  }
 ],
 "metadata": {
  "kernelspec": {
   "display_name": "Python 3",
   "language": "python",
   "name": "python3"
  },
  "language_info": {
   "codemirror_mode": {
    "name": "ipython",
    "version": 2
   },
   "file_extension": ".py",
   "mimetype": "text/x-python",
   "name": "python",
   "nbconvert_exporter": "python",
   "pygments_lexer": "ipython2",
   "version": "2.7.6"
  }
 },
 "nbformat": 4,
 "nbformat_minor": 0
}
