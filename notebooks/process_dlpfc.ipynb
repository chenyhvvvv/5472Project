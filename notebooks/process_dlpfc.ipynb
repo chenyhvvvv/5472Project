{
 "cells": [
  {
   "cell_type": "code",
   "execution_count": 1,
   "metadata": {
    "collapsed": true
   },
   "outputs": [],
   "source": [
    "import os\n",
    "\n",
    "import anndata as ad\n",
    "import scanpy as sc\n",
    "import pandas as pd\n",
    "import numpy as np\n",
    "# Set current working directory\n",
    "os.chdir(\"/import/home2/yhchenmath/Code/project5472/\")\n",
    "root_dir = \"/import/home2/yhchenmath/Dataset/stitch3D/DLPFC/\""
   ]
  },
  {
   "cell_type": "markdown",
   "source": [
    "## SC"
   ],
   "metadata": {
    "collapsed": false
   }
  },
  {
   "cell_type": "code",
   "execution_count": 15,
   "outputs": [],
   "source": [
    "import scipy.io\n",
    "\n",
    "mat = scipy.io.mmread(f\"{root_dir}SC/GSE144136_GeneBarcodeMatrix_Annotated.mtx\")\n",
    "meta = pd.read_csv(f\"{root_dir}SC/GSE144136_CellNames.csv\", index_col=0)\n",
    "meta.index = meta.x.values\n",
    "group = [i.split('.')[1].split('_')[0] for i in list(meta.x.values)]\n",
    "condition = [i.split('.')[1].split('_')[1] for i in list(meta.x.values)]\n",
    "celltype = [i.split('.')[0] for i in list(meta.x.values)]\n",
    "meta[\"group\"] = group\n",
    "meta[\"condition\"] = condition\n",
    "meta[\"celltype\"] = celltype\n",
    "genename = pd.read_csv(f\"{root_dir}SC/GSE144136_GeneNames.csv\", index_col=0)\n",
    "genename.index = genename.x.values\n",
    "adata_ref = ad.AnnData(X=mat.tocsr().T)\n",
    "adata_ref.obs = meta\n",
    "adata_ref.var = genename\n",
    "adata_ref = adata_ref[adata_ref.obs.condition.values.astype(str)==\"Control\", :]"
   ],
   "metadata": {
    "collapsed": false
   }
  },
  {
   "cell_type": "markdown",
   "source": [
    "## ST"
   ],
   "metadata": {
    "collapsed": false
   }
  },
  {
   "cell_type": "code",
   "execution_count": 21,
   "outputs": [
    {
     "name": "stderr",
     "output_type": "stream",
     "text": [
      "Variable names are not unique. To make them unique, call `.var_names_make_unique`.\n",
      "Variable names are not unique. To make them unique, call `.var_names_make_unique`.\n",
      "Variable names are not unique. To make them unique, call `.var_names_make_unique`.\n",
      "Variable names are not unique. To make them unique, call `.var_names_make_unique`.\n",
      "Variable names are not unique. To make them unique, call `.var_names_make_unique`.\n",
      "Variable names are not unique. To make them unique, call `.var_names_make_unique`.\n",
      "Variable names are not unique. To make them unique, call `.var_names_make_unique`.\n",
      "Variable names are not unique. To make them unique, call `.var_names_make_unique`.\n",
      "Variable names are not unique. To make them unique, call `.var_names_make_unique`.\n",
      "Variable names are not unique. To make them unique, call `.var_names_make_unique`.\n",
      "Variable names are not unique. To make them unique, call `.var_names_make_unique`.\n",
      "Variable names are not unique. To make them unique, call `.var_names_make_unique`.\n"
     ]
    }
   ],
   "source": [
    "anno_df = pd.read_csv(f\"{root_dir}ST/barcode_level_layer_map.tsv\", sep='\\t', header=None)\n",
    "\n",
    "slice_idx = [151673, 151674, 151675, 151676]\n",
    "\n",
    "adata_st1 = sc.read_visium(path=f\"{root_dir}ST/10X/%d\" % slice_idx[0],\n",
    "                          count_file=\"%d_filtered_feature_bc_matrix.h5\" % slice_idx[0])\n",
    "anno_df1 = anno_df.iloc[anno_df[1].values.astype(str) == str(slice_idx[0])]\n",
    "anno_df1.columns = [\"barcode\", \"slice_id\", \"layer\"]\n",
    "anno_df1.index = anno_df1['barcode']\n",
    "adata_st1.obs = adata_st1.obs.join(anno_df1, how=\"left\")\n",
    "adata_st1 = adata_st1[adata_st1.obs['layer'].notna()].copy()\n",
    "\n",
    "adata_st2 = sc.read_visium(path=f\"{root_dir}ST/10X/%d\" % slice_idx[1],\n",
    "                          count_file=\"%d_filtered_feature_bc_matrix.h5\" % slice_idx[1])\n",
    "anno_df2 = anno_df.iloc[anno_df[1].values.astype(str) == str(slice_idx[1])]\n",
    "anno_df2.columns = [\"barcode\", \"slice_id\", \"layer\"]\n",
    "anno_df2.index = anno_df2['barcode']\n",
    "adata_st2.obs = adata_st2.obs.join(anno_df2, how=\"left\")\n",
    "adata_st2 = adata_st2[adata_st2.obs['layer'].notna()].copy()\n",
    "\n",
    "adata_st3 = sc.read_visium(path=f\"{root_dir}ST/10X/%d\" % slice_idx[2],\n",
    "                          count_file=\"%d_filtered_feature_bc_matrix.h5\" % slice_idx[2])\n",
    "anno_df3 = anno_df.iloc[anno_df[1].values.astype(str) == str(slice_idx[2])]\n",
    "anno_df3.columns = [\"barcode\", \"slice_id\", \"layer\"]\n",
    "anno_df3.index = anno_df3['barcode']\n",
    "adata_st3.obs = adata_st3.obs.join(anno_df3, how=\"left\")\n",
    "adata_st3 = adata_st3[adata_st3.obs['layer'].notna()].copy()\n",
    "\n",
    "adata_st4 = sc.read_visium(path=f\"{root_dir}ST/10X/%d\" % slice_idx[3],\n",
    "                          count_file=\"%d_filtered_feature_bc_matrix.h5\" % slice_idx[3])\n",
    "anno_df4 = anno_df.iloc[anno_df[1].values.astype(str) == str(slice_idx[3])]\n",
    "anno_df4.columns = [\"barcode\", \"slice_id\", \"layer\"]\n",
    "anno_df4.index = anno_df4['barcode']\n",
    "adata_st4.obs = adata_st4.obs.join(anno_df4, how=\"left\")\n",
    "adata_st4 = adata_st4[adata_st4.obs['layer'].notna()].copy()\n",
    "\n",
    "adata_st_list_raw = [adata_st1, adata_st2, adata_st3, adata_st4]"
   ],
   "metadata": {
    "collapsed": false
   }
  },
  {
   "cell_type": "code",
   "execution_count": 23,
   "outputs": [
    {
     "data": {
      "text/plain": "AnnData object with n_obs × n_vars = 3611 × 33538\n    obs: 'in_tissue', 'array_row', 'array_col', 'barcode', 'slice_id', 'layer'\n    var: 'gene_ids', 'feature_types', 'genome'\n    uns: 'spatial'\n    obsm: 'spatial'"
     },
     "execution_count": 23,
     "metadata": {},
     "output_type": "execute_result"
    }
   ],
   "source": [
    "adata_st_list_raw[0]"
   ],
   "metadata": {
    "collapsed": false
   }
  },
  {
   "cell_type": "markdown",
   "source": [
    "## Save in pickle"
   ],
   "metadata": {
    "collapsed": false
   }
  },
  {
   "cell_type": "code",
   "execution_count": 22,
   "outputs": [],
   "source": [
    "# Save adata_st_list_raw and adata_ref in pickle\n",
    "# para_dict: the extra parameters used in the pipeline\n",
    "import pickle\n",
    "if not os.path.exists(f\"{root_dir}process\"):\n",
    "    os.makedirs(f\"{root_dir}process\")\n",
    "with open(f\"{root_dir}process/st_data.pickle\", 'wb') as f:\n",
    "    pickle.dump(adata_st_list_raw, f)\n",
    "with open(f\"{root_dir}process/sc_data.pickle\", 'wb') as f:\n",
    "    pickle.dump(adata_ref, f)\n",
    "with open(f\"{root_dir}process/para_dict.pickle\", 'wb') as f:\n",
    "    pickle.dump({\"preprocess\": {\"slice_dist_micron\": [10., 300., 10.],\n",
    "                                \"celltype_ref\": ['Astros_1', 'Astros_2', 'Astros_3', 'Endo', 'Micro/Macro',\n",
    "                     'Oligos_1', 'Oligos_2', 'Oligos_3',\n",
    "                     'Ex_1_L5_6', 'Ex_2_L5', 'Ex_3_L4_5', 'Ex_4_L_6', 'Ex_5_L5',\n",
    "                     'Ex_6_L4_6', 'Ex_7_L4_6', 'Ex_8_L5_6', 'Ex_9_L5_6', 'Ex_10_L2_4']},\n",
    "                 \"align\": {}\n",
    "                 }, f)"
   ],
   "metadata": {
    "collapsed": false
   }
  },
  {
   "cell_type": "code",
   "execution_count": null,
   "outputs": [],
   "source": [],
   "metadata": {
    "collapsed": false
   }
  }
 ],
 "metadata": {
  "kernelspec": {
   "display_name": "Python 3",
   "language": "python",
   "name": "python3"
  },
  "language_info": {
   "codemirror_mode": {
    "name": "ipython",
    "version": 2
   },
   "file_extension": ".py",
   "mimetype": "text/x-python",
   "name": "python",
   "nbconvert_exporter": "python",
   "pygments_lexer": "ipython2",
   "version": "2.7.6"
  }
 },
 "nbformat": 4,
 "nbformat_minor": 0
}
