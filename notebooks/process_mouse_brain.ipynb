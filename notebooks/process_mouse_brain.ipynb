{
 "cells": [
  {
   "cell_type": "code",
   "execution_count": null,
   "metadata": {
    "collapsed": true
   },
   "outputs": [],
   "source": [
    "import os\n",
    "\n",
    "import anndata as ad\n",
    "import scanpy as sc\n",
    "import pandas as pd\n",
    "import numpy as np\n",
    "# Set current working directory\n",
    "os.chdir(\"/import/home2/yhchenmath/Code/project5472/\")\n",
    "root_dir = \"/import/home2/yhchenmath/Dataset/stitch3D/AdultMouseBrain/\""
   ]
  },
  {
   "cell_type": "markdown",
   "source": [
    "## ST"
   ],
   "metadata": {
    "collapsed": false
   }
  },
  {
   "cell_type": "code",
   "execution_count": 14,
   "outputs": [],
   "source": [
    "count = pd.read_csv(f\"{root_dir}ST/GSE147747_expr_raw_counts_table.tsv\", sep=\"\\t\", index_col=0)\n",
    "meta = pd.read_csv(f\"{root_dir}ST/GSE147747_meta_table.tsv\", sep=\"\\t\", index_col=0)"
   ],
   "metadata": {
    "collapsed": false
   }
  },
  {
   "cell_type": "code",
   "execution_count": 16,
   "outputs": [],
   "source": [
    "adata_st_all = ad.AnnData(X=count.values)\n",
    "adata_st_all.obs.index = count.index\n",
    "adata_st_all.obs = meta.loc[adata_st_all.obs.index]\n",
    "adata_st_all.var.index = count.columns"
   ],
   "metadata": {
    "collapsed": false
   }
  },
  {
   "cell_type": "code",
   "execution_count": 18,
   "outputs": [],
   "source": [
    "slice_use = ['01A', '02A', '03A', '04B', '05A', '06B', '07A', '08B', '09A', '10B',\n",
    " '11A', '12A', '13B', '14A', '15A', '16A', '17A', '18A', '19A', '20B',\n",
    " '21A', '22A', '23A', '24A', '25A', '26A', '27A', '28A', '29A', '30A',\n",
    " '31A', '32A', '33A', '34A', '35A',]\n",
    "meta_slice = pd.read_csv(f\"{root_dir}ST/figures/slicestable.tsv\",\n",
    "                        index_col=0, sep=\"\\t\")"
   ],
   "metadata": {
    "collapsed": false
   }
  },
  {
   "cell_type": "code",
   "execution_count": 20,
   "outputs": [
    {
     "name": "stderr",
     "output_type": "stream",
     "text": [
      "Trying to set attribute `.obs` of view, copying.\n"
     ]
    }
   ],
   "source": [
    "slice_AP = [float(meta_slice.loc[s]['AP']) * 1000 for s in slice_use]\n",
    "slice_dist_micron = [-(slice_AP[i+1] - slice_AP[i]) for i in range(len(slice_AP)-1)]\n",
    "adata_st_all = adata_st_all[[s in slice_use for s in adata_st_all.obs.section_index.values]]\n",
    "sc.pp.filter_cells(adata_st_all, min_genes=1)"
   ],
   "metadata": {
    "collapsed": false
   }
  },
  {
   "cell_type": "code",
   "execution_count": 39,
   "outputs": [
    {
     "name": "stderr",
     "output_type": "stream",
     "text": [
      "Trying to set attribute `.obs` of view, copying.\n",
      "Trying to set attribute `.obs` of view, copying.\n",
      "Trying to set attribute `.obs` of view, copying.\n",
      "Trying to set attribute `.obs` of view, copying.\n",
      "Trying to set attribute `.obs` of view, copying.\n",
      "Trying to set attribute `.obs` of view, copying.\n",
      "Trying to set attribute `.obs` of view, copying.\n",
      "Trying to set attribute `.obs` of view, copying.\n",
      "Trying to set attribute `.obs` of view, copying.\n",
      "Trying to set attribute `.obs` of view, copying.\n",
      "Trying to set attribute `.obs` of view, copying.\n",
      "Trying to set attribute `.obs` of view, copying.\n",
      "Trying to set attribute `.obs` of view, copying.\n",
      "Trying to set attribute `.obs` of view, copying.\n",
      "Trying to set attribute `.obs` of view, copying.\n",
      "Trying to set attribute `.obs` of view, copying.\n",
      "Trying to set attribute `.obs` of view, copying.\n",
      "Trying to set attribute `.obs` of view, copying.\n",
      "Trying to set attribute `.obs` of view, copying.\n",
      "Trying to set attribute `.obs` of view, copying.\n",
      "Trying to set attribute `.obs` of view, copying.\n",
      "Trying to set attribute `.obs` of view, copying.\n",
      "Trying to set attribute `.obs` of view, copying.\n",
      "Trying to set attribute `.obs` of view, copying.\n",
      "Trying to set attribute `.obs` of view, copying.\n",
      "Trying to set attribute `.obs` of view, copying.\n",
      "Trying to set attribute `.obs` of view, copying.\n",
      "Trying to set attribute `.obs` of view, copying.\n",
      "Trying to set attribute `.obs` of view, copying.\n",
      "Trying to set attribute `.obs` of view, copying.\n",
      "Trying to set attribute `.obs` of view, copying.\n",
      "Trying to set attribute `.obs` of view, copying.\n",
      "Trying to set attribute `.obs` of view, copying.\n",
      "Trying to set attribute `.obs` of view, copying.\n",
      "Trying to set attribute `.obs` of view, copying.\n"
     ]
    }
   ],
   "source": [
    "adata_st_all.obsm['spatial'] = np.concatenate((adata_st_all.obs['HE_X'].values.reshape(-1, 1),\n",
    "                                               adata_st_all.obs['HE_Y'].values.reshape(-1, 1)), axis=1)\n",
    "adata_st_list_raw = []\n",
    "\n",
    "for slice_id in sorted(set(adata_st_all.obs.section_index.values)):\n",
    "    adata_st_i = adata_st_all[adata_st_all.obs.section_index.values == slice_id]\n",
    "\n",
    "    array_col = np.array([np.float(loc.split(\"_\")[1].split(\"x\")[0]) for loc in adata_st_i.obs.index])\n",
    "    if slice_id == '01A':\n",
    "        array_col = array_col - 0.3\n",
    "    array_row = np.array([np.float(loc.split(\"_\")[1].split(\"x\")[1]) for loc in adata_st_i.obs.index])\n",
    "\n",
    "    adata_st_i.obs['array_col'] = np.round(array_col)\n",
    "    adata_st_i.obs['array_row'] = np.round(array_row)\n",
    "    adata_st_i.obsm['loc_use'] = np.concatenate((adata_st_i.obs['array_row'].values.reshape(-1, 1),\n",
    "                                                 adata_st_i.obs['array_col'].values.reshape(-1, 1)), axis=1)\n",
    "\n",
    "    adata_st_list_raw.append(adata_st_i.copy())\n",
    "\n",
    "for i in range(1, 6): # adjust spatial locations\n",
    "    adata_st_list_raw[i].obsm['loc_use'] = np.concatenate((adata_st_list_raw[i].obsm['loc_use'][:, 0].reshape(-1, 1),\n",
    "                                                           2*np.mean(adata_st_list_raw[i].obsm['loc_use'][:, 1])-adata_st_list_raw[i].obsm['loc_use'][:, 1].reshape(-1, 1)), axis=1)"
   ],
   "metadata": {
    "collapsed": false
   }
  },
  {
   "cell_type": "markdown",
   "source": [
    "## scRNA"
   ],
   "metadata": {
    "collapsed": false
   }
  },
  {
   "cell_type": "code",
   "execution_count": 27,
   "outputs": [
    {
     "name": "stderr",
     "output_type": "stream",
     "text": [
      "Trying to set attribute `.obs` of view, copying.\n"
     ]
    }
   ],
   "source": [
    "adata_ref = ad.read_h5ad(f\"{root_dir}SC/all_cells_20200625.h5ad\")\n",
    "adata_ref.var.index = adata_ref.var[\"SYMBOL\"].astype(str)\n",
    "adata_ref.var_names_make_unique()\n",
    "labels = pd.read_csv(f\"{root_dir}SC/snRNA_annotation_astro_subtypes_refined59_20200823.csv\", index_col=0)\n",
    "\n",
    "labels = labels.reindex(index=adata_ref.obs_names)\n",
    "adata_ref.obs[labels.columns] = labels\n",
    "adata_ref = adata_ref[~adata_ref.obs['annotation_1'].isna(), :]\n",
    "adata_ref.obs['celltype'] = adata_ref.obs['annotation_1']"
   ],
   "metadata": {
    "collapsed": false
   }
  },
  {
   "cell_type": "markdown",
   "source": [
    "## Save in pickle"
   ],
   "metadata": {
    "collapsed": false
   }
  },
  {
   "cell_type": "code",
   "execution_count": 42,
   "outputs": [],
   "source": [
    "# Save adata_st_list_raw and adata_ref in pickle\n",
    "# para_dict: the extra parameters used in the pipeline\n",
    "import pickle\n",
    "with open(f\"{root_dir}process/st_data.pickle\", 'wb') as f:\n",
    "    pickle.dump(adata_st_list_raw, f)\n",
    "with open(f\"{root_dir}process/sc_data.pickle\", 'wb') as f:\n",
    "    pickle.dump(adata_ref, f)\n",
    "with open(f\"{root_dir}process/para_dict.pickle\", 'wb') as f:\n",
    "    pickle.dump({\"preprocess\": {\"slice_dist_micron\": slice_dist_micron},\n",
    "                 \"align\": {}\n",
    "                 }, f)"
   ],
   "metadata": {
    "collapsed": false
   }
  }
 ],
 "metadata": {
  "kernelspec": {
   "display_name": "Python 3",
   "language": "python",
   "name": "python3"
  },
  "language_info": {
   "codemirror_mode": {
    "name": "ipython",
    "version": 2
   },
   "file_extension": ".py",
   "mimetype": "text/x-python",
   "name": "python",
   "nbconvert_exporter": "python",
   "pygments_lexer": "ipython2",
   "version": "2.7.6"
  }
 },
 "nbformat": 4,
 "nbformat_minor": 0
}
